{
 "cells": [
  {
   "cell_type": "code",
   "execution_count": null,
   "id": "f01063b8-754d-4f24-9bbc-8388c5348ac1",
   "metadata": {},
   "outputs": [],
   "source": [
    "import numpy as np\n",
    "import matplotlib.pyplot as plt\n",
    "import rasterio\n",
    "import xarray\n",
    "import firedrake\n",
    "import icepack"
   ]
  },
  {
   "cell_type": "markdown",
   "id": "c3f0b4a4-7629-4d5f-89b6-83cca6d7ed18",
   "metadata": {},
   "source": [
    "Read in the mesh."
   ]
  },
  {
   "cell_type": "code",
   "execution_count": null,
   "id": "7a7ec9d1-2e23-4559-995d-5ca920e1fa37",
   "metadata": {},
   "outputs": [],
   "source": [
    "mesh = firedrake.Mesh(\"DenmanThermalMesh.msh\")"
   ]
  },
  {
   "cell_type": "code",
   "execution_count": null,
   "id": "70e71ee5-c501-4fab-a17a-3f6106390231",
   "metadata": {},
   "outputs": [],
   "source": [
    "fig, ax = plt.subplots()\n",
    "ax.set_aspect(\"equal\")\n",
    "firedrake.triplot(mesh, axes=ax)\n",
    "ax.legend(loc=\"upper right\");"
   ]
  },
  {
   "cell_type": "markdown",
   "id": "b86d945c-d463-4040-82a8-49903d842c97",
   "metadata": {},
   "source": [
    "Read in the velocity data."
   ]
  },
  {
   "cell_type": "code",
   "execution_count": null,
   "id": "a0657169-ce7b-4ea9-93cf-f7e9f96a682e",
   "metadata": {},
   "outputs": [],
   "source": [
    "measures_filename = icepack.datasets.fetch_measures_antarctica()\n",
    "measures = xarray.open_dataset(measures_filename)"
   ]
  },
  {
   "cell_type": "code",
   "execution_count": null,
   "id": "c9c2e494-05ae-4408-88e9-49d4c0ca069b",
   "metadata": {},
   "outputs": [],
   "source": [
    "V = firedrake.VectorFunctionSpace(mesh, \"CG\", 1)\n",
    "u = icepack.interpolate((measures[\"VX\"], measures[\"VY\"]), V)"
   ]
  },
  {
   "cell_type": "markdown",
   "id": "8ff1b639-f7ad-46b3-91e2-36d3d1d9fb74",
   "metadata": {},
   "source": [
    "There are some missing points, so just mask them out with 0.\n",
    "**TODO**: Fix this awfulness."
   ]
  },
  {
   "cell_type": "code",
   "execution_count": null,
   "id": "377a6ae9-7177-4965-aa61-63488251870b",
   "metadata": {},
   "outputs": [],
   "source": [
    "u.dat.data[np.isnan(u.dat.data_ro)] = 0"
   ]
  },
  {
   "cell_type": "code",
   "execution_count": null,
   "id": "6e253254-ec52-47f0-a533-561b043736b6",
   "metadata": {},
   "outputs": [],
   "source": [
    "fig, ax = plt.subplots()\n",
    "ax.set_aspect(\"equal\")\n",
    "colors = firedrake.tripcolor(u, axes=ax)\n",
    "fig.colorbar(colors);"
   ]
  },
  {
   "cell_type": "markdown",
   "id": "765cc5be-5432-4ca3-9d04-51864eef3c4e",
   "metadata": {},
   "source": [
    "Read in the bed, thickness, and surface elevation data."
   ]
  },
  {
   "cell_type": "code",
   "execution_count": null,
   "id": "1d2916c0-835e-4e3f-9079-406f2f3aea82",
   "metadata": {},
   "outputs": [],
   "source": [
    "bedmachine_filename = icepack.datasets.fetch_bedmachine_antarctica()\n",
    "bedmachine = xarray.open_dataset(bedmachine_filename)"
   ]
  },
  {
   "cell_type": "code",
   "execution_count": null,
   "id": "08a0d658-af72-4139-b457-e8cde03fa270",
   "metadata": {},
   "outputs": [],
   "source": [
    "Q = firedrake.FunctionSpace(mesh, \"CG\", 1)\n",
    "b = icepack.interpolate(bedmachine[\"bed\"], Q)\n",
    "h = icepack.interpolate(bedmachine[\"thickness\"], Q)\n",
    "s = icepack.interpolate(bedmachine[\"surface\"], Q)"
   ]
  },
  {
   "cell_type": "markdown",
   "id": "e39d22dd-5ad4-4f0a-bc14-982d4c4a9b17",
   "metadata": {},
   "source": [
    "Plot where the ice appears to be floating or not."
   ]
  },
  {
   "cell_type": "code",
   "execution_count": null,
   "id": "a5015f5c-0dc8-4bb9-b053-2d56f0d9ef25",
   "metadata": {},
   "outputs": [],
   "source": [
    "from icepack.constants import ice_density, water_density\n",
    "ρ_I = firedrake.Constant(ice_density)\n",
    "ρ_W = firedrake.Constant(water_density)\n",
    "δh = firedrake.Function(Q).interpolate(s - (1 - ρ_I / ρ_W) * h)"
   ]
  },
  {
   "cell_type": "code",
   "execution_count": null,
   "id": "15a1e83c-1ce6-4aa3-a4c1-47224bc4408f",
   "metadata": {},
   "outputs": [],
   "source": [
    "fig, ax = plt.subplots()\n",
    "ax.set_aspect(\"equal\")\n",
    "ax.set_xlim((2.4e6, 2.8e6))\n",
    "ax.set_ylim((-550e3, -200e3))\n",
    "colors = firedrake.tripcolor(δh, vmin=0.0, vmax=100.0, axes=ax)\n",
    "fig.colorbar(colors);"
   ]
  },
  {
   "cell_type": "markdown",
   "id": "2cacc715-ace6-47ce-9c4a-835b7f9f9d2d",
   "metadata": {},
   "source": [
    "Fetch the ALBMAP data set for other variables (see [here](https://doi.pangaea.de/10.1594/PANGAEA.734145)).\n",
    "The last method call below replaces the coordinate names in the original data set (`\"x1\"`, `\"y1\"`) with the coordinate names that the icepack interpolation routines are expecting.\n",
    "The variable `ghffm` refers to a geothermal heat flux estimate from Fox Maule and others (2005), and `ghfsr` an estimate from Shapiro and Ritzwoller (2004).\n",
    "We also need the surface temperature and accumulation."
   ]
  },
  {
   "cell_type": "code",
   "execution_count": null,
   "id": "cd859911-ed9a-401d-8137-d6f8024f9a27",
   "metadata": {},
   "outputs": [],
   "source": [
    "!wget --no-clobber https://store.pangaea.de/Publications/LeBrocq_et_al_2010/ALBMAPv1.nc.zip\n",
    "!unzip -n ALBMAPv1.nc.zip"
   ]
  },
  {
   "cell_type": "code",
   "execution_count": null,
   "id": "4c159264-3502-44dd-ba29-85de7b17b1ef",
   "metadata": {},
   "outputs": [],
   "source": [
    "albmap = xarray.open_dataset(\"ALBMAPv1.nc\").rename({\"x1\": \"x\", \"y1\": \"y\"})\n",
    "[var for var in albmap.data_vars]"
   ]
  },
  {
   "cell_type": "code",
   "execution_count": null,
   "id": "c9f720fb-0337-4903-8269-81b10a78e626",
   "metadata": {},
   "outputs": [],
   "source": [
    "T = icepack.interpolate(albmap[\"temp\"], Q)\n",
    "a = icepack.interpolate(albmap[\"acca\"], Q)"
   ]
  },
  {
   "cell_type": "code",
   "execution_count": null,
   "id": "53d5b0c7-b8f8-4b4d-8cdc-a1f099b8cf05",
   "metadata": {},
   "outputs": [],
   "source": [
    "fig, axes = plt.subplots(nrows=1, ncols=2, sharex=True, sharey=True)\n",
    "for ax in axes:\n",
    "    ax.set_aspect(\"equal\")\n",
    "    ax.get_xaxis().set_visible(False)\n",
    "    ax.get_yaxis().set_visible(False)\n",
    "\n",
    "colors = firedrake.tripcolor(T, axes=axes[0])\n",
    "fig.colorbar(colors, ax=axes[0], orientation=\"horizontal\", pad=0.025, label=\"surface temperature (C)\")\n",
    "colors = firedrake.tripcolor(a, axes=axes[1])\n",
    "fig.colorbar(colors, ax=axes[1], orientation=\"horizontal\", pad=0.025, label=\"accumulation (m / yr)\");"
   ]
  },
  {
   "cell_type": "markdown",
   "id": "8263ffea-16e8-46d3-8342-9c7d638a179b",
   "metadata": {},
   "source": [
    "Estimate the melt rate, assuming that most of the glacier is roughly in steady state, by applying a smoother kernel to the quantity\n",
    "$$\\dot m \\approx \\dot a - \\nabla\\cdot hu.$$\n",
    "We additionally constrain the result to be positive."
   ]
  },
  {
   "cell_type": "code",
   "execution_count": null,
   "id": "f7691665-7769-446e-8472-5ac2c2064203",
   "metadata": {},
   "outputs": [],
   "source": [
    "from firedrake import inner, grad, div, dx\n",
    "m = firedrake.Function(Q)\n",
    "m_target = a - div(h * u)\n",
    "α = firedrake.Constant(10e3)\n",
    "J = 0.5 * (inner(m - m_target, m - m_target) + α**2 * inner(grad(m), grad(m))) * dx\n",
    "F = firedrake.derivative(J, m)\n",
    "problem = firedrake.NonlinearVariationalProblem(F, m)\n",
    "params = {\"solver_parameters\": {\"snes_type\": \"vinewtonrsls\"}}\n",
    "solver = firedrake.NonlinearVariationalSolver(problem, **params)\n",
    "lower = firedrake.Function(Q)\n",
    "upper = firedrake.Function(Q)\n",
    "upper.assign(1e3)\n",
    "solver.solve(bounds=(lower, upper))"
   ]
  },
  {
   "cell_type": "code",
   "execution_count": null,
   "id": "ffbbf8f4-6a44-4ea4-87dc-b143ba153784",
   "metadata": {},
   "outputs": [],
   "source": [
    "fig, ax = plt.subplots()\n",
    "ax.set_aspect(\"equal\")\n",
    "colors = firedrake.tripcolor(m, vmax=+5, axes=ax)\n",
    "fig.colorbar(colors);"
   ]
  }
 ],
 "metadata": {
  "kernelspec": {
   "display_name": "firedrake",
   "language": "python",
   "name": "firedrake"
  },
  "language_info": {
   "codemirror_mode": {
    "name": "ipython",
    "version": 3
   },
   "file_extension": ".py",
   "mimetype": "text/x-python",
   "name": "python",
   "nbconvert_exporter": "python",
   "pygments_lexer": "ipython3",
   "version": "3.11.9"
  }
 },
 "nbformat": 4,
 "nbformat_minor": 5
}
