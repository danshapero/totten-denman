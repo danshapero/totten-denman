{
 "cells": [
  {
   "cell_type": "code",
   "execution_count": null,
   "id": "f01063b8-754d-4f24-9bbc-8388c5348ac1",
   "metadata": {},
   "outputs": [],
   "source": [
    "import numpy as np\n",
    "import matplotlib.pyplot as plt\n",
    "import rasterio\n",
    "import xarray\n",
    "import firedrake\n",
    "from firedrake import inner, grad, dx, ds, max_value, sqrt, exp, Constant\n",
    "import icepack\n",
    "from icepack.constants import (\n",
    "    ice_density as ρ_I,\n",
    "    water_density as ρ_W,\n",
    "    gravity as g,\n",
    "    weertman_sliding_law as m,\n",
    ")"
   ]
  },
  {
   "cell_type": "markdown",
   "id": "c3f0b4a4-7629-4d5f-89b6-83cca6d7ed18",
   "metadata": {},
   "source": [
    "### Initial setup\n",
    "\n",
    "Read in the mesh."
   ]
  },
  {
   "cell_type": "code",
   "execution_count": null,
   "id": "7a7ec9d1-2e23-4559-995d-5ca920e1fa37",
   "metadata": {},
   "outputs": [],
   "source": [
    "mesh = firedrake.Mesh(\"DenmanThermalMesh.msh\")\n",
    "Q = firedrake.FunctionSpace(mesh, \"CG\", 1)\n",
    "V = firedrake.VectorFunctionSpace(mesh, \"CG\", 1)"
   ]
  },
  {
   "cell_type": "code",
   "execution_count": null,
   "id": "70e71ee5-c501-4fab-a17a-3f6106390231",
   "metadata": {},
   "outputs": [],
   "source": [
    "fig, ax = plt.subplots()\n",
    "ax.set_aspect(\"equal\")\n",
    "firedrake.triplot(mesh, axes=ax)\n",
    "ax.legend(loc=\"upper right\");"
   ]
  },
  {
   "cell_type": "markdown",
   "id": "b86d945c-d463-4040-82a8-49903d842c97",
   "metadata": {},
   "source": [
    "Read in the velocity data."
   ]
  },
  {
   "cell_type": "code",
   "execution_count": null,
   "id": "a0657169-ce7b-4ea9-93cf-f7e9f96a682e",
   "metadata": {},
   "outputs": [],
   "source": [
    "measures_filename = icepack.datasets.fetch_measures_antarctica()\n",
    "measures = xarray.open_dataset(measures_filename)"
   ]
  },
  {
   "cell_type": "code",
   "execution_count": null,
   "id": "c9c2e494-05ae-4408-88e9-49d4c0ca069b",
   "metadata": {},
   "outputs": [],
   "source": [
    "u_obs = icepack.interpolate((measures[\"VX\"], measures[\"VY\"]), V)"
   ]
  },
  {
   "cell_type": "markdown",
   "id": "8ff1b639-f7ad-46b3-91e2-36d3d1d9fb74",
   "metadata": {},
   "source": [
    "There are some missing points, so just mask them out with 0.\n",
    "**TODO**: Fix this awfulness."
   ]
  },
  {
   "cell_type": "code",
   "execution_count": null,
   "id": "377a6ae9-7177-4965-aa61-63488251870b",
   "metadata": {},
   "outputs": [],
   "source": [
    "u_obs.dat.data[np.isnan(u_obs.dat.data_ro)] = 0"
   ]
  },
  {
   "cell_type": "code",
   "execution_count": null,
   "id": "6e253254-ec52-47f0-a533-561b043736b6",
   "metadata": {},
   "outputs": [],
   "source": [
    "fig, ax = plt.subplots()\n",
    "ax.set_aspect(\"equal\")\n",
    "colors = firedrake.tripcolor(u_obs, axes=ax)\n",
    "fig.colorbar(colors);"
   ]
  },
  {
   "cell_type": "markdown",
   "id": "765cc5be-5432-4ca3-9d04-51864eef3c4e",
   "metadata": {},
   "source": [
    "Read in the bed, thickness, and surface elevation data."
   ]
  },
  {
   "cell_type": "code",
   "execution_count": null,
   "id": "1d2916c0-835e-4e3f-9079-406f2f3aea82",
   "metadata": {},
   "outputs": [],
   "source": [
    "bedmachine_filename = icepack.datasets.fetch_bedmachine_antarctica()\n",
    "bedmachine = xarray.open_dataset(bedmachine_filename)"
   ]
  },
  {
   "cell_type": "code",
   "execution_count": null,
   "id": "08a0d658-af72-4139-b457-e8cde03fa270",
   "metadata": {},
   "outputs": [],
   "source": [
    "b = icepack.interpolate(bedmachine[\"bed\"], Q)\n",
    "h_obs = icepack.interpolate(bedmachine[\"thickness\"], Q)\n",
    "h_min = firedrake.Constant(10.0)\n",
    "h = firedrake.Function(Q).interpolate(max_value(h_min, h_obs))"
   ]
  },
  {
   "cell_type": "code",
   "execution_count": null,
   "id": "cae9e250-ca4c-4f50-be7d-08c32f664970",
   "metadata": {},
   "outputs": [],
   "source": [
    "s = firedrake.Function(Q).interpolate(max_value(b + h, (1 - ρ_I / ρ_W) * h))"
   ]
  },
  {
   "cell_type": "markdown",
   "id": "e39d22dd-5ad4-4f0a-bc14-982d4c4a9b17",
   "metadata": {},
   "source": [
    "Plot where the ice appears to be floating or not."
   ]
  },
  {
   "cell_type": "code",
   "execution_count": null,
   "id": "a5015f5c-0dc8-4bb9-b053-2d56f0d9ef25",
   "metadata": {},
   "outputs": [],
   "source": [
    "δh = firedrake.Function(Q).interpolate(s - (1 - ρ_I / ρ_W) * h)"
   ]
  },
  {
   "cell_type": "code",
   "execution_count": null,
   "id": "24df8b05-95c7-4b34-8ebd-7346700664c4",
   "metadata": {},
   "outputs": [],
   "source": [
    "fig, ax = plt.subplots()\n",
    "ax.set_aspect(\"equal\")\n",
    "colors = firedrake.tripcolor(h, axes=ax)\n",
    "fig.colorbar(colors);"
   ]
  },
  {
   "cell_type": "code",
   "execution_count": null,
   "id": "15a1e83c-1ce6-4aa3-a4c1-47224bc4408f",
   "metadata": {},
   "outputs": [],
   "source": [
    "fig, ax = plt.subplots()\n",
    "ax.set_aspect(\"equal\")\n",
    "colors = firedrake.tripcolor(δh, vmin=0.0, vmax=200.0, axes=ax)\n",
    "fig.colorbar(colors);"
   ]
  },
  {
   "cell_type": "markdown",
   "id": "2cacc715-ace6-47ce-9c4a-835b7f9f9d2d",
   "metadata": {},
   "source": [
    "Fetch the ALBMAP data set for other variables (see [here](https://doi.pangaea.de/10.1594/PANGAEA.734145)).\n",
    "The last method call below replaces the coordinate names in the original data set (`\"x1\"`, `\"y1\"`) with the coordinate names that the icepack interpolation routines are expecting.\n",
    "The variable `ghffm` refers to a geothermal heat flux estimate from Fox Maule and others (2005), and `ghfsr` an estimate from Shapiro and Ritzwoller (2004).\n",
    "We also need the surface temperature and accumulation."
   ]
  },
  {
   "cell_type": "code",
   "execution_count": null,
   "id": "cd859911-ed9a-401d-8137-d6f8024f9a27",
   "metadata": {},
   "outputs": [],
   "source": [
    "!wget --no-clobber https://store.pangaea.de/Publications/LeBrocq_et_al_2010/ALBMAPv1.nc.zip\n",
    "!unzip -n ALBMAPv1.nc.zip"
   ]
  },
  {
   "cell_type": "code",
   "execution_count": null,
   "id": "4c159264-3502-44dd-ba29-85de7b17b1ef",
   "metadata": {},
   "outputs": [],
   "source": [
    "albmap = xarray.open_dataset(\"ALBMAPv1.nc\").rename({\"x1\": \"x\", \"y1\": \"y\"})\n",
    "[var for var in albmap.data_vars]"
   ]
  },
  {
   "cell_type": "code",
   "execution_count": null,
   "id": "c9f720fb-0337-4903-8269-81b10a78e626",
   "metadata": {},
   "outputs": [],
   "source": [
    "T_surface = icepack.interpolate(albmap[\"temp\"], Q)\n",
    "a = icepack.interpolate(albmap[\"acca\"], Q)"
   ]
  },
  {
   "cell_type": "code",
   "execution_count": null,
   "id": "53d5b0c7-b8f8-4b4d-8cdc-a1f099b8cf05",
   "metadata": {},
   "outputs": [],
   "source": [
    "fig, axes = plt.subplots(nrows=1, ncols=2, sharex=True, sharey=True)\n",
    "for ax in axes:\n",
    "    ax.set_aspect(\"equal\")\n",
    "    ax.get_xaxis().set_visible(False)\n",
    "    ax.get_yaxis().set_visible(False)\n",
    "\n",
    "colors = firedrake.tripcolor(T_surface, axes=axes[0])\n",
    "fig.colorbar(colors, ax=axes[0], orientation=\"horizontal\", pad=0.025, label=\"surface temperature (C)\")\n",
    "colors = firedrake.tripcolor(a, axes=axes[1])\n",
    "fig.colorbar(colors, ax=axes[1], orientation=\"horizontal\", pad=0.025, label=\"accumulation (m / yr)\");"
   ]
  },
  {
   "cell_type": "markdown",
   "id": "05b260d3-28b1-4ea1-924d-82dcca145990",
   "metadata": {},
   "source": [
    "Compute and plot the driving stress but with a smoothing kernel."
   ]
  },
  {
   "cell_type": "code",
   "execution_count": null,
   "id": "782245f7-b24e-4c95-8346-8ed53af4d413",
   "metadata": {},
   "outputs": [],
   "source": [
    "α = firedrake.Constant(10e3)\n",
    "τ_obs = -ρ_I * g * h * grad(s)\n",
    "τ_d = firedrake.Function(V)\n",
    "J = 0.5 * (inner(τ_d - τ_obs, τ_d - τ_obs) + α**2 * inner(grad(τ_d), grad(τ_d))) * dx\n",
    "F = firedrake.derivative(J, τ_d)\n",
    "firedrake.solve(F == 0, τ_d)"
   ]
  },
  {
   "cell_type": "code",
   "execution_count": null,
   "id": "d0c28d2a-7fca-4872-8302-2f068f41e2e6",
   "metadata": {},
   "outputs": [],
   "source": [
    "fig, ax = plt.subplots()\n",
    "ax.set_aspect(\"equal\")\n",
    "colors = firedrake.tripcolor(τ_d, axes=ax)\n",
    "fig.colorbar(colors);"
   ]
  },
  {
   "cell_type": "markdown",
   "id": "1321de6f-c1de-4d55-b399-d23fe440eef7",
   "metadata": {},
   "source": [
    "Next we need to make an initial guess for the basal shear stress.\n",
    "In the interior, we assume that the bed takes up almost all the driving stress.\n",
    "Where the ice is close to floating, the bed takes up almost none of the driving stress."
   ]
  },
  {
   "cell_type": "code",
   "execution_count": null,
   "id": "00a8724c-0488-4413-8945-3a0eb6ef4613",
   "metadata": {},
   "outputs": [],
   "source": [
    "δh_c = firedrake.Constant(50.0)\n",
    "f_interior = firedrake.Constant(0.95)\n",
    "f = firedrake.conditional(\n",
    "    δh >= δh_c,\n",
    "    f_interior,\n",
    "    0.05,\n",
    ")"
   ]
  },
  {
   "cell_type": "code",
   "execution_count": null,
   "id": "1b635fcf-d9fe-4eae-bed2-f60ffec79097",
   "metadata": {},
   "outputs": [],
   "source": [
    "τ_initial = f * sqrt(inner(τ_d, τ_d))\n",
    "u_min = firedrake.Constant(10.0)\n",
    "U = max_value(u_min, sqrt(inner(u_obs, u_obs)))\n",
    "expr = τ_initial / U ** (1 / m)\n",
    "C_0 = firedrake.Function(Q).interpolate(expr)"
   ]
  },
  {
   "cell_type": "code",
   "execution_count": null,
   "id": "355a7027-c07f-4d80-a566-8da7edd9a310",
   "metadata": {},
   "outputs": [],
   "source": [
    "fig, ax = plt.subplots()\n",
    "ax.set_aspect(\"equal\")\n",
    "colors = firedrake.tripcolor(C_0, axes=ax)\n",
    "fig.colorbar(colors);"
   ]
  },
  {
   "cell_type": "markdown",
   "id": "c5e3c2d1-c57a-434f-a533-79ef5fa67660",
   "metadata": {},
   "source": [
    "Initial solve for the ice velocity."
   ]
  },
  {
   "cell_type": "code",
   "execution_count": null,
   "id": "e01b1ab5-9583-4ffa-b873-6287e1aa198d",
   "metadata": {},
   "outputs": [],
   "source": [
    "from icepack.models.viscosity import viscosity_depth_averaged\n",
    "\n",
    "u_0 = Constant(25.0)\n",
    "def friction(**kwargs):\n",
    "    u, ϕ = map(kwargs.get, (\"velocity\", \"log_friction\"))\n",
    "    return m / (m + 1) * C_0 * exp(ϕ) * sqrt(inner(u, u) + u_0**2) ** (1 / m + 1)\n",
    "\n",
    "T = firedrake.Function(Q).interpolate(T_surface + 273.15)\n",
    "A_0 = icepack.rate_factor(T)\n",
    "def viscosity(**kwargs):\n",
    "    u, h, ψ = map(kwargs.get, (\"velocity\", \"thickness\", \"log_fluidity\"))\n",
    "    A = A_0 * exp(ψ)\n",
    "    return viscosity_depth_averaged(velocity=u, thickness=h, fluidity=A)\n",
    "\n",
    "model = icepack.models.IceStream(friction=friction, viscosity=viscosity)\n",
    "opts = {\n",
    "    \"dirichlet_ids\": [1],\n",
    "    \"diagnostic_solver_type\": \"petsc\",\n",
    "    \"diagnostic_solver_parameters\": {\n",
    "        #\"snes_monitor\": None,\n",
    "        \"snes_type\": \"newtonls\",\n",
    "        \"snes_linesearch_type\": \"cp\",\n",
    "        \"ksp_type\": \"gmres\",\n",
    "        \"pc_type\": \"lu\",\n",
    "        \"pc_factor_mat_solver_type\": \"mumps\",\n",
    "    },\n",
    "}\n",
    "solver = icepack.solvers.FlowSolver(model, **opts)\n",
    "\n",
    "ϕ = firedrake.Function(Q)\n",
    "ψ = firedrake.Function(Q)\n",
    "u = solver.diagnostic_solve(\n",
    "    velocity=u_obs, thickness=h, surface=s, log_friction=ϕ, log_fluidity=ψ\n",
    ")"
   ]
  },
  {
   "cell_type": "code",
   "execution_count": null,
   "id": "7798bb59-dd54-4453-a2e2-7c4f81d45e58",
   "metadata": {},
   "outputs": [],
   "source": [
    "fig, ax = plt.subplots()\n",
    "ax.set_aspect(\"equal\")\n",
    "colors = firedrake.tripcolor(u, axes=ax)\n",
    "fig.colorbar(colors);"
   ]
  },
  {
   "cell_type": "markdown",
   "id": "a0506a83-2b91-4aa2-bbe3-787f94168e13",
   "metadata": {},
   "source": [
    "### Friction estimation problem\n",
    "\n",
    "Now we'll try and back out the friction.\n",
    "First we need the error estimates for the velocity."
   ]
  },
  {
   "cell_type": "code",
   "execution_count": null,
   "id": "8facd1a3-0959-4dcf-b272-b5f155f2096c",
   "metadata": {},
   "outputs": [],
   "source": [
    "σx = icepack.interpolate(measures[\"ERRX\"], Q)\n",
    "σy = icepack.interpolate(measures[\"ERRY\"], Q)"
   ]
  },
  {
   "cell_type": "markdown",
   "id": "19f2fb08-49fd-498b-842e-4ff1c79c4768",
   "metadata": {},
   "source": [
    "There are some patches of missing error estimates, so we'll make them very high there in order to down-weight those velocity values."
   ]
  },
  {
   "cell_type": "code",
   "execution_count": null,
   "id": "2703ce83-5cd9-4178-b02e-6225faac662c",
   "metadata": {},
   "outputs": [],
   "source": [
    "σx.dat.data[np.isnan(σx.dat.data_ro)] = 1000.0\n",
    "σy.dat.data[np.isnan(σy.dat.data_ro)] = 1000.0"
   ]
  },
  {
   "cell_type": "code",
   "execution_count": null,
   "id": "5c9db604-eec0-4536-a3bd-5f25f20a4090",
   "metadata": {},
   "outputs": [],
   "source": [
    "σ = firedrake.Function(Q).interpolate(sqrt(σx**2 + σy**2))\n",
    "fig, ax = plt.subplots()\n",
    "ax.set_aspect(\"equal\")\n",
    "colors = firedrake.tripcolor(σ, vmax=30.0, axes=ax)\n",
    "fig.colorbar(colors);"
   ]
  },
  {
   "cell_type": "markdown",
   "id": "33be1402-f2a8-4ca7-89f4-96ed66393513",
   "metadata": {},
   "source": [
    "Solving the inverse problem requires that we:\n",
    "1. Define what simulation is being run\n",
    "2. Create a loss functional, which computes the misfit between the model and data\n",
    "3. Create a regularization functional, which penalizes unphysical behavior in the solution"
   ]
  },
  {
   "cell_type": "code",
   "execution_count": null,
   "id": "dd42b234-17a4-46b8-b904-8d03a7ad38c4",
   "metadata": {},
   "outputs": [],
   "source": [
    "def friction_simulation(ϕ):\n",
    "    return solver.diagnostic_solve(\n",
    "        velocity=u_obs,\n",
    "        thickness=h,\n",
    "        surface=s,\n",
    "        log_fluidity=ψ,\n",
    "        log_friction=ϕ,\n",
    "    )"
   ]
  },
  {
   "cell_type": "code",
   "execution_count": null,
   "id": "1f2b5071-75fb-4559-b826-d488347a6f2b",
   "metadata": {},
   "outputs": [],
   "source": [
    "area = firedrake.assemble(Constant(1.0) * dx(mesh))\n",
    "Ω = Constant(area)"
   ]
  },
  {
   "cell_type": "code",
   "execution_count": null,
   "id": "78b259a8-5e6e-46a5-b938-32f778624c3f",
   "metadata": {},
   "outputs": [],
   "source": [
    "def loss_functional(u):\n",
    "    δu = u - u_obs\n",
    "    return 0.5 / Ω * ((δu[0] / σx)**2 + (δu[1] / σy)**2) * dx\n",
    "\n",
    "α = Constant(5e3)\n",
    "def friction_regularization(ϕ):\n",
    "    return 0.5 / Ω * α**2 * inner(grad(ϕ), grad(ϕ)) * dx"
   ]
  },
  {
   "cell_type": "markdown",
   "id": "f936a679-fd71-4e4c-a271-654c1d002371",
   "metadata": {},
   "source": [
    "Set up the estimation problem and solver and compute the optimal log-multiplier for the friction."
   ]
  },
  {
   "cell_type": "code",
   "execution_count": null,
   "id": "dc4b6bba-7f8f-4630-b9a0-4df194aab6ea",
   "metadata": {},
   "outputs": [],
   "source": [
    "from icepack.statistics import (\n",
    "    StatisticsProblem,\n",
    "    MaximumProbabilityEstimator,\n",
    ")\n",
    "\n",
    "friction_problem = StatisticsProblem(\n",
    "    simulation=friction_simulation,\n",
    "    loss_functional=loss_functional,\n",
    "    regularization=friction_regularization,\n",
    "    controls=ϕ,\n",
    ")"
   ]
  },
  {
   "cell_type": "code",
   "execution_count": null,
   "id": "ab03a930-8012-47b4-bea1-91cc8b59ef72",
   "metadata": {},
   "outputs": [],
   "source": [
    "friction_estimator = MaximumProbabilityEstimator(\n",
    "    friction_problem,\n",
    "    gradient_tolerance=1e-4,\n",
    "    step_tolerance=1e-1,\n",
    "    max_iterations=50,\n",
    ")\n",
    "ϕ_opt = friction_estimator.solve()"
   ]
  },
  {
   "cell_type": "code",
   "execution_count": null,
   "id": "189f22f2-c23a-4f85-be95-dc89735c7a9f",
   "metadata": {},
   "outputs": [],
   "source": [
    "fig, ax = plt.subplots()\n",
    "ax.set_aspect(\"equal\")\n",
    "colors = firedrake.tripcolor(ϕ_opt, vmin=-1, vmax=+1, cmap=\"RdBu\", axes=ax)\n",
    "fig.colorbar(colors);"
   ]
  },
  {
   "cell_type": "code",
   "execution_count": null,
   "id": "d64e38e4-a27f-410b-9918-38f3275ea1c1",
   "metadata": {},
   "outputs": [],
   "source": [
    "u_opt = friction_simulation(ϕ_opt)"
   ]
  },
  {
   "cell_type": "code",
   "execution_count": null,
   "id": "50797ebb-6134-4810-ad55-a01d805d7b29",
   "metadata": {},
   "outputs": [],
   "source": [
    "fig, ax = plt.subplots()\n",
    "ax.set_aspect(\"equal\")\n",
    "colors = firedrake.tripcolor(u_opt, axes=ax)\n",
    "fig.colorbar(colors);"
   ]
  },
  {
   "cell_type": "markdown",
   "id": "88bc8c29-e2ae-4671-998a-d04b8cd4dd3c",
   "metadata": {},
   "source": [
    "### Viscosity estimation problem\n",
    "\n",
    "Now we'll go through a similar procedure but to back out the fluidity, with the friction fixed.\n",
    "Observe that here we're using the optimal solution $\\phi_{\\text{opt}}$ for the log-friction that we found before."
   ]
  },
  {
   "cell_type": "code",
   "execution_count": null,
   "id": "a1af7bab-42f2-450d-9b7a-4c2218f12f7a",
   "metadata": {},
   "outputs": [],
   "source": [
    "def fluidity_simulation(ψ):\n",
    "    return solver.diagnostic_solve(\n",
    "        velocity=u_obs,\n",
    "        thickness=h,\n",
    "        surface=s,\n",
    "        log_fluidity=ψ,\n",
    "        log_friction=ϕ_opt,\n",
    "    )"
   ]
  },
  {
   "cell_type": "code",
   "execution_count": null,
   "id": "7ac33789-809a-4750-8d5d-039f9f97d0fc",
   "metadata": {},
   "outputs": [],
   "source": [
    "β = Constant(10e3)\n",
    "def fluidity_regularization(ψ):\n",
    "    return 0.5 / Ω * β**2 * inner(grad(ψ), grad(ψ)) * dx"
   ]
  },
  {
   "cell_type": "code",
   "execution_count": null,
   "id": "9ce7baeb-9b22-4f4d-92fe-257a62b13ca3",
   "metadata": {},
   "outputs": [],
   "source": [
    "fluidity_problem = StatisticsProblem(\n",
    "    simulation=fluidity_simulation,\n",
    "    loss_functional=loss_functional,\n",
    "    regularization=fluidity_regularization,\n",
    "    controls=ψ,\n",
    ")"
   ]
  },
  {
   "cell_type": "code",
   "execution_count": null,
   "id": "77a81323-1643-451f-b0b7-7d001c3183c5",
   "metadata": {},
   "outputs": [],
   "source": [
    "fluidity_estimator = MaximumProbabilityEstimator(\n",
    "    fluidity_problem,\n",
    "    gradient_tolerance=1e-4,\n",
    "    step_tolerance=1e-1,\n",
    "    max_iterations=50,\n",
    ")"
   ]
  },
  {
   "cell_type": "code",
   "execution_count": null,
   "id": "bee388a7-b546-42c7-b22a-f25dfb77470a",
   "metadata": {},
   "outputs": [],
   "source": [
    "ψ_opt = fluidity_estimator.solve()"
   ]
  },
  {
   "cell_type": "code",
   "execution_count": null,
   "id": "6578baf9-750d-4cb2-9a70-ee4dcff541e8",
   "metadata": {},
   "outputs": [],
   "source": [
    "fig, ax = plt.subplots()\n",
    "ax.set_aspect(\"equal\")\n",
    "colors = firedrake.tripcolor(ψ_opt, vmin=-5, vmax=+5, cmap=\"RdBu\", axes=ax)\n",
    "fig.colorbar(colors);"
   ]
  },
  {
   "cell_type": "code",
   "execution_count": null,
   "id": "21094e24-ff9b-41ae-94c3-b2ecd631b502",
   "metadata": {},
   "outputs": [],
   "source": [
    "u_opt = fluidity_simulation(ψ_opt)"
   ]
  },
  {
   "cell_type": "code",
   "execution_count": null,
   "id": "0341ac4e-7ca3-49a8-8767-58fa641b22bb",
   "metadata": {},
   "outputs": [],
   "source": [
    "fig, ax = plt.subplots()\n",
    "ax.set_aspect(\"equal\")\n",
    "colors = firedrake.tripcolor(u_opt, axes=ax)\n",
    "fig.colorbar(colors);"
   ]
  },
  {
   "cell_type": "markdown",
   "id": "38e0c7d4-3b07-4655-8149-d53fa993bf0b",
   "metadata": {},
   "source": [
    "### Porque no los dos\n",
    "\n",
    "Now let's try to estimate both simultaneously."
   ]
  },
  {
   "cell_type": "code",
   "execution_count": null,
   "id": "580895ff-bef5-4741-b0e8-2d1da06f62be",
   "metadata": {},
   "outputs": [],
   "source": [
    "def joint_simulation(controls):\n",
    "    ϕ, ψ = controls\n",
    "    return solver.diagnostic_solve(\n",
    "        velocity=u_obs,\n",
    "        thickness=h,\n",
    "        surface=s,\n",
    "        log_fluidity=ψ,\n",
    "        log_friction=ϕ,\n",
    "    )"
   ]
  },
  {
   "cell_type": "code",
   "execution_count": null,
   "id": "9a6def28-cb09-4591-8618-2c95deea0271",
   "metadata": {},
   "outputs": [],
   "source": [
    "def joint_regularization(controls):\n",
    "    ϕ, ψ = controls\n",
    "    return 0.5 / Ω * (\n",
    "        α**2 * inner(grad(ϕ), grad(ϕ)) + β**2 * inner(grad(ψ), grad(ψ))\n",
    "    ) * dx"
   ]
  },
  {
   "cell_type": "code",
   "execution_count": null,
   "id": "03f2bda8-df70-455a-926a-56a7ab92cbc1",
   "metadata": {},
   "outputs": [],
   "source": [
    "joint_problem = StatisticsProblem(\n",
    "    simulation=joint_simulation,\n",
    "    loss_functional=loss_functional,\n",
    "    regularization=joint_regularization,\n",
    "    controls=[ϕ_opt, ψ_opt],\n",
    ")"
   ]
  },
  {
   "cell_type": "code",
   "execution_count": null,
   "id": "78d459a3-2b63-45b4-9723-6f713a036271",
   "metadata": {},
   "outputs": [],
   "source": [
    "joint_estimator = MaximumProbabilityEstimator(\n",
    "    joint_problem,\n",
    "    gradient_tolerance=1e-4,\n",
    "    step_tolerance=1e-1,\n",
    "    max_iterations=50,\n",
    ")"
   ]
  },
  {
   "cell_type": "code",
   "execution_count": null,
   "id": "da552465-8b77-4e51-89e3-1621e8382014",
   "metadata": {},
   "outputs": [],
   "source": [
    "ϕ_opt, ψ_opt = joint_estimator.solve()"
   ]
  },
  {
   "cell_type": "markdown",
   "id": "f37956a2-f1db-4d46-b82c-ecac96877892",
   "metadata": {},
   "source": [
    "Save the result to disk."
   ]
  },
  {
   "cell_type": "code",
   "execution_count": null,
   "id": "dbd12ec2-8a69-4770-b41f-376cf42c7d28",
   "metadata": {},
   "outputs": [],
   "source": [
    "with firedrake.CheckpointFile(\"denman.h5\", \"w\") as chk:\n",
    "    chk.save_mesh(mesh)\n",
    "    chk.save_function(C_0, name=\"baseline_friction\")\n",
    "    chk.save_function(ϕ_opt, name=\"log_friction_multiplier\")\n",
    "    chk.save_function(ψ_opt, name=\"log_fluidity_multiplier\")\n",
    "    chk.h5pyfile.attrs[\"min_speed\"] = 25.0"
   ]
  }
 ],
 "metadata": {
  "kernelspec": {
   "display_name": "firedrake",
   "language": "python",
   "name": "firedrake"
  },
  "language_info": {
   "codemirror_mode": {
    "name": "ipython",
    "version": 3
   },
   "file_extension": ".py",
   "mimetype": "text/x-python",
   "name": "python",
   "nbconvert_exporter": "python",
   "pygments_lexer": "ipython3",
   "version": "3.11.9"
  }
 },
 "nbformat": 4,
 "nbformat_minor": 5
}
